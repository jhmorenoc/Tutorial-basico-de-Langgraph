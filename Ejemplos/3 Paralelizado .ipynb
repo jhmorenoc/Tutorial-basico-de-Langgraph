{
  "cells": [
    {
      "cell_type": "markdown",
      "metadata": {},
      "source": [
        "# Agentes en LangGraph con Gemini\n"
      ]
    },
    {
      "cell_type": "markdown",
      "metadata": {},
      "source": [
        "## Caso 3 Paralelizado\n",
        "\n",
        "<img src=\"https://langchain-ai.github.io/langgraph/tutorials/workflows/img/parallelization.png\" alt=\"gate\" width=\"600\"/>\n",
        "\n",
        "\n",
        "Con la paralelización, los LLM trabajan simultáneamente en una tarea:\n",
        "\n",
        "En ocasiones, los LLM pueden trabajar simultáneamente en una tarea y sus resultados se agregan programáticamente. Este flujo de trabajo, la paralelización, se manifiesta en dos variantes clave: Seccionamiento: Dividir una tarea en subtareas independientes que se ejecutan en paralelo. Votación: Ejecutar la misma tarea varias veces para obtener resultados diversos.\n",
        "\n",
        "Cuándo usar este flujo de trabajo: La paralelización es eficaz cuando las subtareas divididas se pueden paralelizar para mayor velocidad, o cuando se requieren múltiples perspectivas o intentos para obtener resultados más fiables. Para tareas complejas con múltiples consideraciones, los LLM suelen tener un mejor rendimiento cuando cada consideración se gestiona mediante una llamada LLM independiente, lo que permite centrarse en cada aspecto específico.\n"
      ]
    },
    {
      "cell_type": "code",
      "execution_count": 1,
      "metadata": {},
      "outputs": [],
      "source": [
        "from typing_extensions import TypedDict\n",
        "from langgraph.graph import StateGraph, START, END\n",
        "from IPython.display import Image, display"
      ]
    },
    {
      "cell_type": "code",
      "execution_count": 2,
      "metadata": {},
      "outputs": [],
      "source": [
        "import os\n",
        "import getpass\n",
        "from langchain_google_genai import ChatGoogleGenerativeAI\n",
        "\n",
        "# Declaración y llamado de la key del modelo LLM\n",
        "# use esta función para definir la key del modelo LLM si tuvo problemas con el archivo .env.json o create_env.py\n",
        "def _set_env(var: str):\n",
        "   if not os.environ.get(var):\n",
        "       os.environ[var] = getpass.getpass(f\"{var}: \")\n",
        "\n",
        "_set_env(\"GOOGLE_API_KEY\")\n",
        "\n",
        "llm = ChatGoogleGenerativeAI(model=\"gemini-1.5-pro\")"
      ]
    },
    {
      "cell_type": "markdown",
      "metadata": {},
      "source": [
        "### ¿Qué es `State` y qué función cumple en el grafo?\n",
        "\n",
        "El `State` es una estructura (aquí un `TypedDict`) que representa el estado compartido entre los diferentes nodos del grafo. \n",
        "Contiene todas las variables que se van generando, modificando o utilizando a lo largo del flujo, como por ejemplo: el tema (`topic`), el chiste (`joke`), la historia (`story`), el poema (`poem`) y la salida combinada (`combined_output`). \n",
        "Cada nodo del grafo puede leer y actualizar partes de este estado, permitiendo que la información fluya y se transforme paso a paso durante el procesamiento paralelo."
      ]
    },
    {
      "cell_type": "code",
      "execution_count": 3,
      "metadata": {},
      "outputs": [],
      "source": [
        "# Estado del grafo\n",
        "# Graph state\n",
        "class State(TypedDict):\n",
        "    topic: str\n",
        "    joke: str\n",
        "    story: str\n",
        "    poem: str\n",
        "    combined_output: str\n"
      ]
    },
    {
      "cell_type": "markdown",
      "metadata": {},
      "source": [
        "### Nodos\n",
        "\n",
        "Hacemos la construcción de los mismos grafos del ejemplo anterior"
      ]
    },
    {
      "cell_type": "code",
      "execution_count": 4,
      "metadata": {},
      "outputs": [],
      "source": [
        "# Definición de nodos\n",
        "\n",
        "def call_llm_1(state: State):\n",
        "    \"\"\"\n",
        "    Genera un chiste sobre el tema proporcionado.\n",
        "\n",
        "    Parámetros:\n",
        "        state (State): Diccionario de estado que debe contener la clave 'topic' (str) con el tema sobre el cual se generará el chiste.\n",
        "\n",
        "    Retorna:\n",
        "        dict: Diccionario con la clave 'joke' (str) que contiene el chiste generado.\n",
        "\n",
        "    Descripción:\n",
        "        Esta función utiliza el modelo LLM para crear un chiste en español sobre el tema especificado en 'state[\"topic\"]'.\n",
        "    \"\"\"\n",
        "    msg = llm.invoke(f\"Escribe un chiste sobre {state['topic']}\")\n",
        "    return {\"joke\": msg.content}\n",
        "\n",
        "\n",
        "def call_llm_2(state: State):\n",
        "    \"\"\"\n",
        "    Genera una historia sobre el tema proporcionado.\n",
        "\n",
        "    Parámetros:\n",
        "        state (State): Diccionario de estado que debe contener la clave 'topic' (str) con el tema sobre el cual se generará la historia.\n",
        "\n",
        "    Retorna:\n",
        "        dict: Diccionario con la clave 'story' (str) que contiene la historia generada.\n",
        "\n",
        "    Descripción:\n",
        "        Esta función utiliza el modelo LLM para crear una historia en español sobre el tema especificado en 'state[\"topic\"]'.\n",
        "    \"\"\"\n",
        "    msg = llm.invoke(f\"Escribe una historia sobre {state['topic']}\")\n",
        "    return {\"story\": msg.content}\n",
        "\n",
        "\n",
        "def call_llm_3(state: State):\n",
        "    \"\"\"\n",
        "    Genera un poema sobre el tema proporcionado.\n",
        "\n",
        "    Parámetros:\n",
        "        state (State): Diccionario de estado que debe contener la clave 'topic' (str) con el tema sobre el cual se generará el poema.\n",
        "\n",
        "    Retorna:\n",
        "        dict: Diccionario con la clave 'poem' (str) que contiene el poema generado.\n",
        "\n",
        "    Descripción:\n",
        "        Esta función utiliza el modelo LLM para crear un poema en español sobre el tema especificado en 'state[\"topic\"]'.\n",
        "    \"\"\"\n",
        "    msg = llm.invoke(f\"Escribe un poema sobre {state['topic']}\")\n",
        "    return {\"poem\": msg.content}\n",
        "\n",
        "def aggregator(state: State):\n",
        "    \"\"\"\n",
        "    Combina el chiste, la historia y el poema en una sola salida.\n",
        "\n",
        "    Parámetros:\n",
        "        state (State): Diccionario de estado que debe contener las claves 'topic' (str), 'joke' (str), 'story' (str) y 'poem' (str).\n",
        "\n",
        "    Retorna:\n",
        "        dict: Diccionario con la clave 'combined_output' (str) que contiene la combinación de la historia, el chiste y el poema.\n",
        "\n",
        "    Descripción:\n",
        "        Esta función toma los resultados generados (chiste, historia y poema) sobre el tema especificado en 'state[\"topic\"]'\n",
        "        y los une en un solo texto en español, presentando cada uno con su respectivo encabezado.\n",
        "    \"\"\"\n",
        "    combinado = f\"¡Aquí tienes una historia, un chiste y un poema sobre {state['topic']}!\\n\\n\"\n",
        "    combinado += f\"HISTORIA:\\n{state['story']}\\n\\n\"\n",
        "    combinado += f\"CHISTE:\\n{state['joke']}\\n\\n\"\n",
        "    combinado += f\"POEMA:\\n{state['poem']}\"\n",
        "    return {\"combined_output\": combinado}\n"
      ]
    },
    {
      "cell_type": "markdown",
      "metadata": {},
      "source": [
        "### Flujo\n",
        "\n",
        "Contruimos el flujo igual al caso anterior\n"
      ]
    },
    {
      "cell_type": "code",
      "execution_count": 5,
      "metadata": {},
      "outputs": [],
      "source": [
        "# Construir flujo de trabajo\n",
        "parallel_builder = StateGraph(State)"
      ]
    },
    {
      "cell_type": "markdown",
      "metadata": {},
      "source": [
        "### Definición de nodos\n",
        "\n",
        "Al igual que caso anterior agregamos los nodos al flujo"
      ]
    },
    {
      "cell_type": "code",
      "execution_count": 6,
      "metadata": {},
      "outputs": [
        {
          "data": {
            "text/plain": [
              "<langgraph.graph.state.StateGraph at 0x1ecdba7dca0>"
            ]
          },
          "execution_count": 6,
          "metadata": {},
          "output_type": "execute_result"
        }
      ],
      "source": [
        "# Agregamos los nodos\n",
        "parallel_builder.add_node(\"call_llm_1\", call_llm_1)\n",
        "parallel_builder.add_node(\"call_llm_2\", call_llm_2)\n",
        "parallel_builder.add_node(\"call_llm_3\", call_llm_3)\n",
        "parallel_builder.add_node(\"aggregator\", aggregator)\n"
      ]
    },
    {
      "cell_type": "markdown",
      "metadata": {},
      "source": [
        "### Definición de aristas\n",
        "\n",
        "\n",
        "En la agregación de aristas paralelizadas, se definen las conexiones (edges) entre los nodos del grafo de manera que, a partir del nodo inicial (START), se disparan simultáneamente varias ramas independientes hacia diferentes nodos de procesamiento (en este caso, los nodos que generan la historia, el chiste y el poema). \n",
        "\n",
        "Cada una de estas ramas ejecuta su tarea en paralelo, permitiendo que los tres procesos ocurran al mismo tiempo y no de forma secuencial. \n",
        "\n",
        "Una vez que cada rama termina su tarea, todas convergen en un nodo agregador (\"aggregator\"), que se encarga de reunir los resultados parciales y combinarlos en una única salida final. \n",
        "\n",
        "Finalmente, el flujo continúa hacia el nodo final (END), completando así el procesamiento paralelo y la integración de los resultados.\n"
      ]
    },
    {
      "cell_type": "code",
      "execution_count": 7,
      "metadata": {},
      "outputs": [],
      "source": [
        "# Agregamos las aristas\n",
        "parallel_builder.add_edge(START, \"call_llm_1\")\n",
        "parallel_builder.add_edge(START, \"call_llm_2\")\n",
        "parallel_builder.add_edge(START, \"call_llm_3\")\n",
        "parallel_builder.add_edge(\"call_llm_1\", \"aggregator\")\n",
        "parallel_builder.add_edge(\"call_llm_2\", \"aggregator\")\n",
        "parallel_builder.add_edge(\"call_llm_3\", \"aggregator\")\n",
        "parallel_builder.add_edge(\"aggregator\", END)\n",
        "parallel_workflow = parallel_builder.compile()"
      ]
    },
    {
      "cell_type": "markdown",
      "metadata": {},
      "source": [
        "\n",
        "### Visualización del grafo\n",
        "El siguiente código utiliza la función `display` para mostrar visualmente el grafo del workflow que hemos construido. \n",
        "Específicamente, `chain.get_graph().draw_mermaid_png()` genera una imagen del grafo utilizando el formato Mermaid, \n",
        "permitiendo ver de manera gráfica cómo están conectados los nodos y las aristas del flujo de trabajo.\n",
        "Esto facilita la comprensión de la estructura y la lógica del workflow, mostrando de forma clara el recorrido que sigue la información entre los diferentes pasos.\n"
      ]
    },
    {
      "cell_type": "code",
      "execution_count": 8,
      "metadata": {},
      "outputs": [
        {
          "data": {
            "image/png": "[encoded data removed]",
            "text/plain": [
              "<IPython.core.display.Image object>"
            ]
          },
          "metadata": {},
          "output_type": "display_data"
        }
      ],
      "source": [
        "# Visualizamos el workflow\n",
        "display(Image(parallel_workflow.get_graph().draw_mermaid_png()))"
      ]
    },
    {
      "cell_type": "markdown",
      "metadata": {},
      "source": [
        "### LLamado\n",
        "Ahora que hemos definido y compilado el grafo siguiendo los pasos anteriores, ya podemos invocarlo para ejecutar el flujo de trabajo y obtener resultados.\n"
      ]
    },
    {
      "cell_type": "code",
      "execution_count": 9,
      "metadata": {},
      "outputs": [
        {
          "name": "stdout",
          "output_type": "stream",
          "text": [
            "¡Aquí tienes una historia, un chiste y un poema sobre cats!\n",
            "\n",
            "HISTORIA:\n",
            "En un rincón tranquilo del mundo, donde los árboles susurraban secretos al viento y el sol dibujaba manchas doradas sobre la tierra, existía un reino secreto habitado por gatos. No eran gatos ordinarios; estos felinos poseían una gracia y sabiduría inigualables, sus ojos brillaban con una antigua magia. Su líder, una magnífica gata atigrada llamada Celeste, poseía una profunda comprensión de las estrellas y el susurro del universo.\n",
            "\n",
            "Una noche, mientras las estrellas centelleaban como diamantes esparcidos sobre un paño de terciopelo, Celeste recibió una profecía. Una gran oscuridad amenazaba con envolver su reino, trayendo consigo una fría noche eterna. La única esperanza residía en una legendaria Flor de la Luna, que se decía que florecía solo en la cima de la montaña más alta, bañada por la luz de la luna llena.\n",
            "\n",
            "Con el corazón apesadumbrado pero resuelto, Celeste reunió a sus gatos más valientes. Entre ellos se encontraba un joven y ágil gato negro llamado Sombra, conocido por su sigilo y coraje; una gata atigrada jengibre llamada Chispa, cuyo espíritu ardía brillantemente como su pelaje; y un viejo y sabio gato siamés llamado Luna, cuyos ojos contenían la sabiduría de generaciones.\n",
            "\n",
            "Juntos, se embarcaron en un peligroso viaje. Se enfrentaron a terrenos traicioneros, se abrieron camino a través de bosques oscuros y evadieron las garras de criaturas siniestras. Sombra, con su sigilo, los guio a través de las sombras, mientras que Chispa, con su espíritu indomable, los mantuvo con el ánimo en alto incluso en los momentos más oscuros. Luna, con su sabiduría, compartió antiguas historias e intuiciones que los ayudaron en su camino.\n",
            "\n",
            "A lo largo de su viaje, se encontraron con otros gatos que se unieron a su noble causa. Un robusto gato atigrado llamado Roca, con una fuerza inquebrantable, y una gentil gata calicó llamada Brisa, con una capacidad innata para curar, se convirtieron en valiosos aliados.\n",
            "\n",
            "Finalmente, llegaron a la base de la montaña, su pico imponente perforaba el cielo. El ascenso fue arduo, el viento gélido mordía su pelaje y la nieve resbaladiza amenazaba con hacerlos caer. Sin embargo, los gatos perseveraron, impulsados por su determinación de salvar su reino.\n",
            "\n",
            "En la cima, bañados por el resplandor etéreo de la luna llena, encontraron la Flor de la Luna. Sus pétalos brillaban con una luz celestial, irradiando calidez y esperanza. Con cuidado, recogieron la flor y comenzaron su descenso.\n",
            "\n",
            "Al regresar a su reino, los gatos plantaron la Flor de la Luna en el corazón de su hogar. A medida que su luz se extendía, la oscuridad que amenazaba con consumirlos retrocedió, reemplazada por un cálido resplandor dorado. El reino se salvó, y los gatos celebraron su coraje y unidad.\n",
            "\n",
            "Desde ese día en adelante, los gatos fueron conocidos como los Guardianes de la Luz de la Luna, sus cuentos transmitidos de generación en generación, recordando a todos el poder de la valentía, la amistad y la búsqueda de la esperanza incluso en las noches más oscuras. Y a medida que la luna brillaba sobre su reino, susurraba una canción de los gatos héroes que salvaron su mundo, una canción que resonaría a lo largo del tiempo.\n",
            "\n",
            "CHISTE:\n",
            "¿Por qué los gatos son tan malos jugando al póquer?\n",
            "\n",
            "Porque siempre tienen un as bajo la manga.\n",
            "\n",
            "POEMA:\n",
            "Claro, aquí tienes un poema sobre gatos:\n",
            "\n",
            "Los felinos suaves, ágiles y elegantes,\n",
            "Con ojos penetrantes que brillan intensamente,\n",
            "Una presencia misteriosa, silenciosa y serena,\n",
            "Cazadores nocturnos, nacidos para la escena.\n",
            "\n",
            "Con pelaje suave que ruega por ser acariciado,\n",
            "Ronronean con un sonido profundo y vibrante,\n",
            "Maestros del disfraz, sigilosos y rápidos,\n",
            "Saltan y se abalanzan, juguetones y traviesos.\n",
            "\n",
            "Criaturas independientes con una mente propia,\n",
            "Exploran el mundo con cautela y valentía,\n",
            "Un vínculo con la naturaleza, salvaje y libre,\n",
            "Los gatos nos cautivan con su encanto y misterio.\n",
            "\n",
            "Desde el gato atigrado juguetón hasta el persa majestuoso,\n",
            "Cada uno tiene su propio carácter y estilo,\n",
            "Un compañero leal, un amigo hasta el final,\n",
            "Los gatos enriquecen nuestras vidas con su amor incondicional.\n",
            "\n",
            "Así que celebremos a estos maravillosos felinos,\n",
            "Que nos traen alegría y nos hacen sonreír,\n",
            "Que su presencia llene nuestros corazones de dicha,\n",
            "Porque los gatos son verdaderamente un regalo del cielo.\n"
          ]
        }
      ],
      "source": [
        "# Invocar\n",
        "salida = state = parallel_workflow.invoke({\"topic\": \"cats\"})\n",
        "\n",
        "print(salida[\"combined_output\"])\n"
      ]
    }
  ],
  "metadata": {
    "kernelspec": {
      "display_name": "kernel-lg",
      "language": "python",
      "name": "python3"
    },
    "language_info": {
      "codemirror_mode": {
        "name": "ipython",
        "version": 3
      },
      "file_extension": ".py",
      "mimetype": "text/x-python",
      "name": "python",
      "nbconvert_exporter": "python",
      "pygments_lexer": "ipython3",
      "version": "3.12.7"
    }
  },
  "nbformat": 4,
  "nbformat_minor": 2
}
