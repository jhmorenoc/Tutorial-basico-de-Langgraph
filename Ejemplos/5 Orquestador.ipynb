{
  "cells": [
    {
      "cell_type": "markdown",
      "metadata": {},
      "source": [
        "# Agentes en LangGraph con Gemini\n"
      ]
    },
    {
      "cell_type": "markdown",
      "metadata": {},
      "source": [
        "## Caso 5 Orquestados\n",
        "\n",
        "<img src=\"https://langchain-ai.github.io/langgraph/tutorials/workflows/img/worker.png\" alt=\"gate\" width=\"600\"/>\n",
        "\n",
        "Con el patrón orquestador-trabajador, un orquestador descompone una tarea y delega cada sub-tarea a trabajadores. Como se menciona en el blog de Anthropic sobre la construcción de agentes efectivos:\n",
        "\n",
        "En el flujo de trabajo orquestador-trabajadores, un LLM central descompone dinámicamente las tareas, las delega a LLMs trabajadores y sintetiza sus resultados.\n",
        "\n",
        "Cuándo usar este flujo de trabajo: Este flujo es adecuado para tareas complejas donde no se pueden predecir las sub-tareas necesarias (por ejemplo, en programación, la cantidad de archivos que deben cambiarse y la naturaleza de cada cambio probablemente dependa de la tarea). Aunque es topográficamente similar a la paralelización, la diferencia clave es su flexibilidad: las sub-tareas no están predefinidas, sino que son determinadas por el orquestador según la entrada específica.\n"
      ]
    },
    {
      "cell_type": "code",
      "execution_count": 49,
      "metadata": {},
      "outputs": [],
      "source": [
        "from typing import Annotated, List\n",
        "import operator\n",
        "from langgraph.types import Send\n",
        "from pydantic import BaseModel, Field\n",
        "from typing_extensions import TypedDict\n",
        "from langgraph.graph import StateGraph, START, END\n",
        "from IPython.display import Image, display\n",
        "from langchain_core.messages import HumanMessage, SystemMessage\n"
      ]
    },
    {
      "cell_type": "code",
      "execution_count": 50,
      "metadata": {},
      "outputs": [],
      "source": [
        "import os\n",
        "import getpass\n",
        "from langchain_google_genai import ChatGoogleGenerativeAI\n",
        "\n",
        "# Declaración y llamado de la key del modelo LLM\n",
        "# use esta función para definir la key del modelo LLM si tuvo problemas con el archivo .env.json o create_env.py\n",
        "def _set_env(var: str):\n",
        "   if not os.environ.get(var):\n",
        "       os.environ[var] = getpass.getpass(f\"{var}: \")\n",
        "\n",
        "_set_env(\"GOOGLE_API_KEY\")\n",
        "\n",
        "llm = ChatGoogleGenerativeAI(model=\"gemini-1.5-pro\")"
      ]
    },
    {
      "cell_type": "markdown",
      "metadata": {},
      "source": [
        "Primero definimos el esquema para salida estructurada a usar en la planificación:\n"
      ]
    },
    {
      "cell_type": "code",
      "execution_count": 51,
      "metadata": {},
      "outputs": [],
      "source": [
        "class Section(BaseModel):\n",
        "    name: str = Field(\n",
        "        description=\"Nombre para esta sección del informe.\",\n",
        "    )\n",
        "    description: str = Field(\n",
        "        description=\"Breve descripción de los temas y conceptos principales que se cubrirán en esta sección.\",\n",
        "    )\n"
      ]
    },
    {
      "cell_type": "markdown",
      "metadata": {},
      "source": [
        "Definición del modelo Sections para estructurar la salida del planificador. Incluye una lista de secciones, cada una representando una parte del informe."
      ]
    },
    {
      "cell_type": "code",
      "execution_count": 52,
      "metadata": {},
      "outputs": [],
      "source": [
        "class Sections(BaseModel):\n",
        "    sections: List[Section] = Field(\n",
        "        description=\"Secciones del informe.\",  # Descripción \n",
        "    )"
      ]
    },
    {
      "cell_type": "markdown",
      "metadata": {},
      "source": [
        "Ahora Aumentamos el LLM con un esquema para salida estructurada usando el modelo `Sections`. Esto permite que el modelo genere una respuesta estructurada según el esquema definido en `Sections`."
      ]
    },
    {
      "cell_type": "code",
      "execution_count": 53,
      "metadata": {},
      "outputs": [],
      "source": [
        "planner = llm.with_structured_output(Sections)  # El planificador ahora devolverá secciones del informe en formato estructurado."
      ]
    },
    {
      "cell_type": "markdown",
      "metadata": {},
      "source": [
        "### Creando Workers en LangGraph\n",
        "\n",
        "Debido a que los flujos de trabajo de orquestador-trabajador son comunes, LangGraph tiene la API Send para soportar esto. Permite crear dinámicamente nodos worker y enviar a cada uno una entrada específica. Cada worker tiene su propio estado, y todas las salidas de los workers se escriben en una clave de estado compartida que es accesible para el grafo del orquestador. Esto le da al orquestador acceso a todas las salidas de los workers y le permite sintetizarlas en una salida final. Como puedes ver abajo, iteramos sobre una lista de secciones y enviamos cada una a un nodo worker. Consulta la documentación adicional aquí y aquí."
      ]
    },
    {
      "cell_type": "code",
      "execution_count": 54,
      "metadata": {},
      "outputs": [],
      "source": [
        "# Estado del grafo\n",
        "class State(TypedDict):\n",
        "    topic: str  # Tema del informe\n",
        "    sections: list[Section]  # Lista de secciones del informe\n",
        "    completed_sections: Annotated[\n",
        "        list, operator.add\n",
        "    ]  # Todas las workers escriben en esta clave en paralelo\n",
        "    final_report: str  # Informe final\n"
      ]
    },
    {
      "cell_type": "markdown",
      "metadata": {},
      "source": [
        "En la siguiente celda se define la estructura y lógica del orquestador en el flujo de trabajo de generación de informes. Primero, se declara el estado que manejará cada worker (`WorkerState`), el cual contiene la sección específica que debe procesar cada worker y una lista acumulativa de secciones completadas, permitiendo la ejecución paralela y la agregación de resultados.\n",
        "\n",
        "Luego, se implementa la función `orchestrator`, que actúa como el nodo orquestador del grafo. Esta función toma el estado global, utiliza el planificador (basado en un modelo de lenguaje) para generar un plan estructurado del informe a partir del tema proporcionado, y devuelve las secciones generadas en un formato estructurado. \n",
        "\n",
        "El orquestador es responsable de descomponer el problema principal (elaborar el informe) en sub-tareas (secciones), que luego serán distribuidas a los workers para su desarrollo individual.\n"
      ]
    },
    {
      "cell_type": "code",
      "execution_count": null,
      "metadata": {},
      "outputs": [],
      "source": [
        "\n",
        "# Estado del worker (Worker state)\n",
        "class WorkerState(TypedDict):\n",
        "    section: Section  # Sección que el worker debe procesar\n",
        "    completed_sections: Annotated[list, operator.add]  # Lista acumulada de secciones completadas por los workers\n",
        "\n",
        "# Nodos (Nodes)\n",
        "def orchestrator(state: State):\n",
        "    \"\"\"Orquestador que genera un plan para el informe\"\"\"\n",
        "\n",
        "    # Generar las secciones del informe usando el planificador\n",
        "    report_sections = planner.invoke(\n",
        "        [\n",
        "            SystemMessage(content=\"Genera un plan para el informe.\"),  # Instrucción al modelo para crear el plan\n",
        "            HumanMessage(content=f\"Aquí está el tema del informe: {state['topic']}\"),  # Proporciona el tema al modelo\n",
        "        ]\n",
        "    )\n",
        "\n",
        "    # Devuelve las secciones generadas en formato estructurado\n",
        "    return {\"sections\": report_sections.sections}"
      ]
    },
    {
      "cell_type": "markdown",
      "metadata": {},
      "source": [
        "SE define la funcion `llm_call` que representa el nodo worker encargado de redactar una sección individual del informe. Recibe el estado específico del worker, que contiene la sección a desarrollar y la lista acumulada de secciones completadas. Utiliza un modelo de lenguaje (LLM) para generar el contenido de la sección, proporcionando como contexto el nombre y la descripción de la sección. La instrucción al modelo especifica que debe escribir la sección en formato markdown, sin incluir preámbulos. El resultado generado por el modelo se agrega a la lista de secciones completadas, que será utilizada posteriormente para sintetizar el informe completo."
      ]
    },
    {
      "cell_type": "code",
      "execution_count": null,
      "metadata": {},
      "outputs": [],
      "source": [
        "\n",
        "def llm_call(state: WorkerState):\n",
        "    \"\"\"Worker que escribe una sección del informe\"\"\"\n",
        "\n",
        "    # Generar la sección del informe utilizando el modelo de lenguaje\n",
        "    section = llm.invoke(\n",
        "        [\n",
        "            SystemMessage(\n",
        "                content=\"Escribe una sección del informe siguiendo el nombre y la descripción proporcionados. No incluyas ningún preámbulo para cada sección. Utiliza formato markdown.\"\n",
        "            ),\n",
        "            HumanMessage(\n",
        "                content=f\"Aquí está el nombre de la sección: {state['section'].name} y la descripción: {state['section'].description}\"\n",
        "            ),\n",
        "        ]\n",
        "    )\n",
        "\n",
        "    # Escribir la sección generada en la lista de secciones completadas\n",
        "    return {\"completed_sections\": [section.content]}"
      ]
    },
    {
      "cell_type": "markdown",
      "metadata": {},
      "source": [
        "En la siguiente celda define dos funciones clave para el flujo de trabajo del orquestador:\n",
        "\n",
        "1. `synthesizer(state: State)`: Esta función toma el estado actual, que contiene una lista de secciones del informe ya completadas (`completed_sections`). Su propósito es sintetizar el informe final uniendo todas las secciones en una sola cadena de texto, separadas por delimitadores (`\\n\\n---\\n\\n`). El resultado se devuelve en un diccionario bajo la clave `\"final_report\"`, listo para ser utilizado o presentado como el informe completo.\n",
        "\n",
        "2. `assign_workers(state: State)`: Esta función es utilizada como función condicional de borde en el grafo de estados. Recibe el estado actual, accede a la lista de secciones planificadas (`state[\"sections\"]`) y para cada sección crea una instrucción para enviar el trabajo al nodo `\"llm_call\"`, pasando la sección correspondiente. Esto permite que cada sección del informe sea redactada en paralelo por un worker independiente.\n"
      ]
    },
    {
      "cell_type": "code",
      "execution_count": null,
      "metadata": {},
      "outputs": [],
      "source": [
        "def synthesizer(state: State):\n",
        "    \"\"\"Sintetiza el informe completo a partir de las secciones\"\"\"\n",
        "\n",
        "    # Lista de secciones completadas\n",
        "    completed_sections = state[\"completed_sections\"]\n",
        "\n",
        "    # Formatea las secciones completadas como una sola cadena, separadas por delimitadores, para usarlas como contexto en las secciones finales\n",
        "    completed_report_sections = \"\\n\\n---\\n\\n\".join(completed_sections)\n",
        "\n",
        "    # Devuelve el informe final como un solo string\n",
        "    return {\"final_report\": completed_report_sections}\n",
        "\n",
        "\n",
        "# Función condicional de borde para crear workers llm_call que escriben cada sección del informe\n",
        "def assign_workers(state: State):\n",
        "    \"\"\"Asigna un worker a cada sección en el plan\"\"\"\n",
        "\n",
        "    # Inicia la escritura de secciones en paralelo usando la API Send()\n",
        "    return [Send(\"llm_call\", {\"section\": s}) for s in state[\"sections\"]]"
      ]
    },
    {
      "cell_type": "markdown",
      "metadata": {},
      "source": [
        "Construimos el workflow"
      ]
    },
    {
      "cell_type": "code",
      "execution_count": 64,
      "metadata": {},
      "outputs": [],
      "source": [
        "orchestrator_worker_builder = StateGraph(State)"
      ]
    },
    {
      "cell_type": "markdown",
      "metadata": {},
      "source": [
        "Ahora definimos los nodos:"
      ]
    },
    {
      "cell_type": "code",
      "execution_count": 59,
      "metadata": {},
      "outputs": [
        {
          "data": {
            "text/plain": [
              "<langgraph.graph.state.StateGraph at 0x22c1e458410>"
            ]
          },
          "execution_count": 59,
          "metadata": {},
          "output_type": "execute_result"
        }
      ],
      "source": [
        "orchestrator_worker_builder.add_node(\"orchestrator\", orchestrator)\n",
        "orchestrator_worker_builder.add_node(\"llm_call\", llm_call)\n",
        "orchestrator_worker_builder.add_node(\"synthesizer\", synthesizer)\n"
      ]
    },
    {
      "cell_type": "markdown",
      "metadata": {},
      "source": [
        "Y las aristas:"
      ]
    },
    {
      "cell_type": "code",
      "execution_count": 60,
      "metadata": {},
      "outputs": [
        {
          "data": {
            "text/plain": [
              "<langgraph.graph.state.StateGraph at 0x22c1e458410>"
            ]
          },
          "execution_count": 60,
          "metadata": {},
          "output_type": "execute_result"
        }
      ],
      "source": [
        "orchestrator_worker_builder.add_edge(START, \"orchestrator\")\n",
        "orchestrator_worker_builder.add_conditional_edges(\n",
        "    \"orchestrator\", assign_workers, [\"llm_call\"]\n",
        ")\n",
        "orchestrator_worker_builder.add_edge(\"llm_call\", \"synthesizer\")\n",
        "orchestrator_worker_builder.add_edge(\"synthesizer\", END)"
      ]
    },
    {
      "cell_type": "markdown",
      "metadata": {},
      "source": [
        "Ya podemos compilar el grafo:"
      ]
    },
    {
      "cell_type": "code",
      "execution_count": 61,
      "metadata": {},
      "outputs": [],
      "source": [
        "orchestrator_worker = orchestrator_worker_builder.compile()"
      ]
    },
    {
      "cell_type": "markdown",
      "metadata": {},
      "source": [
        "Lo visualizamos:"
      ]
    },
    {
      "cell_type": "code",
      "execution_count": 62,
      "metadata": {},
      "outputs": [
        {
          "data": {
            "image/png": "[encoded data removed]",
            "text/plain": [
              "<IPython.core.display.Image object>"
            ]
          },
          "metadata": {},
          "output_type": "display_data"
        }
      ],
      "source": [
        "display(Image(orchestrator_worker.get_graph().draw_mermaid_png()))\n"
      ]
    },
    {
      "cell_type": "markdown",
      "metadata": {},
      "source": [
        "Y finalmente hacemos una prueba de invocación del grafo:"
      ]
    },
    {
      "cell_type": "code",
      "execution_count": 63,
      "metadata": {},
      "outputs": [
        {
          "data": {
            "text/markdown": [
              "# Introducción a los LLM\n",
              "\n",
              "Los Modelos Lingüísticos Grandes (LLM) son un tipo de modelo de inteligencia artificial (IA) entrenado en grandes cantidades de datos de texto. Pueden realizar una variedad de tareas relacionadas con el lenguaje, como:\n",
              "\n",
              "* **Generación de texto:** Los LLM pueden generar texto similar al humano en una variedad de estilos, como poemas, código, guiones, piezas musicales, correo electrónico, cartas, etc. También pueden traducir entre idiomas y resumir texto.\n",
              "* **Comprensión del lenguaje:** Los LLM pueden comprender el texto escrito, incluida la identificación del tema principal, encontrar información específica y responder preguntas.\n",
              "* **Diálogo:** Los LLM pueden conversar con los humanos de forma natural, respondiendo preguntas y haciendo preguntas relevantes.\n",
              "\n",
              "Los LLM se basan típicamente en arquitecturas de aprendizaje profundo, como las redes neuronales transformadoras. Estas arquitecturas permiten que los LLM aprendan los patrones y las estructuras del lenguaje, lo que les permite generar y comprender texto similar al humano. El tamaño de los LLM puede variar desde unos pocos millones hasta cientos de miles de millones de parámetros. En general, los modelos más grandes tienden a funcionar mejor, pero también requieren más recursos computacionales para entrenar y usar.\n",
              "\n",
              "Los LLM tienen el potencial de revolucionar la forma en que interactuamos con las computadoras. Pueden facilitar tareas como escribir, investigar y comunicarse con otros. Sin embargo, también es importante tener en cuenta los riesgos potenciales asociados con los LLM, como la posibilidad de que se utilicen para generar información errónea o propaganda.\n",
              "\n",
              "---\n",
              "\n",
              "## Leyes de escalado para los LLM\n",
              "\n",
              "El rendimiento de los grandes modelos lingüísticos (LLM) está intrínsecamente ligado al tamaño del modelo, el tamaño del conjunto de datos y la potencia de cálculo utilizada durante el entrenamiento. La relación entre estos factores a menudo se rige por las leyes de escalado, que proporcionan información sobre cómo mejora el rendimiento al escalar los recursos.\n",
              "\n",
              "Las leyes de escalado normalmente muestran una relación de ley de potencia entre el rendimiento del modelo (medido por métricas como la pérdida o la precisión) y los recursos (tamaño del modelo, tamaño del conjunto de datos o cálculo). En otras palabras, aumentar los recursos normalmente conduce a una mejora del rendimiento, pero con rendimientos decrecientes.\n",
              "\n",
              "**Tamaño del modelo:** Aumentar el número de parámetros en un LLM generalmente conduce a un mejor rendimiento en diversas tareas. Sin embargo, la relación entre el tamaño del modelo y el rendimiento no es lineal. Después de cierto punto, aumentar aún más el tamaño del modelo produce mejoras de rendimiento marginalmente más pequeñas. Se han propuesto varias leyes de escalado para capturar esta relación, a menudo indicando una ley de potencia con un exponente decreciente.\n",
              "\n",
              "**Tamaño del conjunto de datos:** De manera similar al tamaño del modelo, escalar el tamaño del conjunto de datos de entrenamiento también mejora el rendimiento. Un conjunto de datos más grande expone al modelo a una mayor diversidad de lenguaje y patrones, lo que lleva a una mejor generalización. Sin embargo, las ganancias de rendimiento disminuyen a medida que aumenta el tamaño del conjunto de datos, lo que sugiere que existe un límite en la cantidad de datos que un modelo puede utilizar de manera efectiva.\n",
              "\n",
              "**Potencia de cálculo:** La potencia de cálculo juega un papel crucial en el entrenamiento de los LLM. Una mayor potencia de cálculo permite entrenar modelos más grandes en conjuntos de datos más grandes durante más tiempo. La relación entre la potencia de cálculo y el rendimiento también sigue una ley de escalado, pero la tasa de mejora puede variar según el modelo y la arquitectura de entrenamiento específicos.\n",
              "\n",
              "Comprender estas leyes de escalado es esencial para el desarrollo eficiente de LLM. Al cuantificar la relación entre los recursos y el rendimiento, los investigadores pueden tomar decisiones informadas sobre cómo asignar los recursos de manera óptima para lograr las mejoras de rendimiento deseadas. Además, las leyes de escalado pueden ayudar a predecir el rendimiento de los modelos futuros y guiar la investigación en el desarrollo de arquitecturas de modelos más eficientes.\n",
              "\n",
              "---\n",
              "\n",
              "### Implicaciones de las leyes de escalado\n",
              "\n",
              "Las leyes de escalado han surgido como un principio rector crucial en el desarrollo de modelos de lenguaje grande (LLM). Describen la relación predecible entre el tamaño del modelo (número de parámetros), los datos de entrenamiento y el rendimiento computacional. En esencia, las leyes de escalado sugieren que aumentar el tamaño del modelo y los datos de entrenamiento, junto con una potencia de cálculo proporcional, conduce a una mejora continua del rendimiento del modelo. Esta observación ha tenido profundas implicaciones para la investigación y desarrollo de LLM, dando forma a las estrategias de investigación y generando expectativas sobre el futuro de estos modelos.\n",
              "\n",
              "Una de las implicaciones más significativas de las leyes de escalado es el impulso hacia modelos aún más grandes. A medida que la investigación inicial demostró una fuerte correlación entre el tamaño del modelo y el rendimiento, hubo una tendencia a entrenar modelos cada vez más grandes. Esta tendencia ha dado lugar a una serie de LLM con miles de millones, e incluso billones, de parámetros, lo que ha logrado resultados notables en diversas tareas de PNL. Sin embargo, el simple escalado también trae consigo desafíos, incluido el creciente costo computacional y la huella ambiental del entrenamiento de estos modelos masivos.\n",
              "\n",
              "Además, las leyes de escalado han resaltado la importancia de los datos de entrenamiento. A medida que aumenta el tamaño de los modelos, también aumenta su apetito por los datos. Esto ha llevado a los investigadores a explorar nuevas formas de adquirir y curar conjuntos de datos masivos, lo que incluye técnicas novedosas para el filtrado y la limpieza de datos. La calidad de los datos de entrenamiento se ha vuelto cada vez más crítica, ya que los modelos más grandes son susceptibles de aprender y amplificar los sesgos presentes en los datos, lo que genera preocupaciones éticas y prácticas.\n",
              "\n",
              "Otra implicación de las leyes de escalado es la necesidad de arquitecturas de modelos más eficientes. A medida que el escalado ingenuo se vuelve prohibitivamente costoso, los investigadores están explorando activamente nuevas arquitecturas y técnicas de entrenamiento que pueden lograr un rendimiento similar con menores requisitos computacionales. Esto incluye explorar arquitecturas de modelos dispersos, técnicas de aprendizaje por transferencia y otras innovaciones destinadas a mejorar la eficiencia del entrenamiento y la inferencia.\n",
              "\n",
              "Por último, las leyes de escalado han suscitado importantes cuestiones sobre los límites del escalado. Si bien las tendencias iniciales sugirieron una mejora continua con el tamaño, no está claro si estas leyes se mantendrán indefinidamente. Hay preguntas abiertas sobre si hay un punto de rendimientos decrecientes o si surgirán limitaciones fundamentales. La investigación futura deberá explorar estos límites y determinar si existen límites inherentes a la escalabilidad de los LLM.\n",
              "\n",
              "En resumen, las leyes de escalado han tenido una profunda influencia en la trayectoria de la investigación y desarrollo de los LLM. Han impulsado la tendencia hacia modelos más grandes, han destacado la importancia de los datos, han motivado la investigación en arquitecturas de modelos eficientes y han planteado preguntas fundamentales sobre los límites del escalado. A medida que el campo continúa evolucionando, comprender y abordar las implicaciones de las leyes de escalado seguirá siendo crucial para el desarrollo de LLM más capaces y sostenibles.\n",
              "\n",
              "---\n",
              "\n",
              "## Conclusión\n",
              "\n",
              "Este informe ha examinado [tema del informe]. Nuestros hallazgos indican que [hallazgo clave 1] y que [hallazgo clave 2]. Además, hemos descubierto que [hallazgo clave 3].\n",
              "\n",
              "Estos hallazgos tienen varias implicaciones. En primer lugar, sugieren que [implicación 1]. En segundo lugar, apuntan hacia la necesidad de [implicación 2]. Por último, plantean interrogantes sobre [implicación 3].\n",
              "\n",
              "Se justifican futuras investigaciones para abordar varias cuestiones sin resolver. En primer lugar, sería útil investigar [dirección futura de la investigación 1]. Además, sería informativo explorar [dirección futura de la investigación 2]. Por último, un estudio sobre [dirección futura de la investigación 3] podría arrojar luz sobre [cuestión sin resolver]."
            ],
            "text/plain": [
              "<IPython.core.display.Markdown object>"
            ]
          },
          "execution_count": 63,
          "metadata": {},
          "output_type": "execute_result"
        }
      ],
      "source": [
        "# Invocación\n",
        "state = orchestrator_worker.invoke({\"topic\": \"Crea un informe sobre las leyes de escalado de los LLM\"})\n",
        "\n",
        "from IPython.display import Markdown\n",
        "Markdown(state[\"final_report\"])\n"
      ]
    }
  ],
  "metadata": {
    "kernelspec": {
      "display_name": "kernel-lg",
      "language": "python",
      "name": "python3"
    },
    "language_info": {
      "codemirror_mode": {
        "name": "ipython",
        "version": 3
      },
      "file_extension": ".py",
      "mimetype": "text/x-python",
      "name": "python",
      "nbconvert_exporter": "python",
      "pygments_lexer": "ipython3",
      "version": "3.12.7"
    }
  },
  "nbformat": 4,
  "nbformat_minor": 2
}
