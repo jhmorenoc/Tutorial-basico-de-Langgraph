{
  "cells": [
    {
      "cell_type": "markdown",
      "metadata": {},
      "source": [
        "# Agentes en LangGraph con Gemini\n"
      ]
    },
    {
      "cell_type": "markdown",
      "metadata": {},
      "source": [
        "## Caso 2 Encadenamiento de Prompts\n",
        "\n",
        "<img src=\"https://langchain-ai.github.io/langgraph/tutorials/workflows/img/prompt_chain.png\" alt=\"gate\" width=\"600\"/>\n",
        "\n",
        "\n",
        "En el Encadenamiento de Prompts (prompt chaining) cada llamada LLM procesa la salida de la anterior. En el Encadenamiento de Prompts se descompone una tarea en una secuencia de pasos, donde cada llamada LLM procesa el resultado de la anterior. Se pueden añadir comprobaciones programáticas en cualquier paso intermedio para garantizar que el proceso siga su curso.\n",
        "\n",
        "Cuándo usar este flujo de trabajo: Este flujo de trabajo es ideal para situaciones en las que la tarea se puede descomponer de forma fácil y ordenada en subtareas fijas. El objetivo principal es compensar la latencia con una mayor precisión, simplificando cada llamada LLM.\n"
      ]
    },
    {
      "cell_type": "code",
      "execution_count": 11,
      "metadata": {},
      "outputs": [],
      "source": [
        "from typing_extensions import TypedDict\n",
        "from langgraph.graph import StateGraph, START, END\n",
        "from IPython.display import Image, display"
      ]
    },
    {
      "cell_type": "code",
      "execution_count": 12,
      "metadata": {},
      "outputs": [],
      "source": [
        "import os\n",
        "import getpass\n",
        "from langchain_google_genai import ChatGoogleGenerativeAI\n",
        "\n",
        "# Declaración y llamado de la key del modelo LLM\n",
        "# use esta función para definir la key del modelo LLM si tuvo problemas con el archivo .env.json o create_env.py\n",
        "def _set_env(var: str):\n",
        "   if not os.environ.get(var):\n",
        "       os.environ[var] = getpass.getpass(f\"{var}: \")\n",
        "\n",
        "_set_env(\"GOOGLE_API_KEY\")\n",
        "\n",
        "llm = ChatGoogleGenerativeAI(model=\"gemini-1.5-pro\")"
      ]
    },
    {
      "cell_type": "markdown",
      "metadata": {},
      "source": [
        "### ¿Qué es `State` y qué función cumple en el grafo?\n",
        "\n",
        "`State` es una estructura de datos (en este caso, un `TypedDict`) que define las variables o información que se va a compartir y transformar a lo largo de los diferentes pasos (nodos) del grafo. \n",
        "\n",
        "En el contexto de un grafo de procesamiento (como los de LangGraph), el `State` actúa como el \"estado global\" que se va actualizando y pasando de un nodo a otro. Cada nodo puede leer y modificar partes del `State` según la lógica que implemente.\n",
        "\n",
        "Por ejemplo, en este flujo, el `State` contiene claves como `topic`, `joke`, `improved_joke` y `final_joke`, que permiten que cada función del grafo acceda y modifique la información relevante en cada etapa del procesamiento. \n",
        "\n",
        "Así, el `State` es fundamental para coordinar el flujo de datos y asegurar que cada paso tenga acceso a la información necesaria para ejecutar su tarea.\n"
      ]
    },
    {
      "cell_type": "code",
      "execution_count": 13,
      "metadata": {},
      "outputs": [],
      "source": [
        "# Estado del grafo\n",
        "class State(TypedDict):\n",
        "    topic: str\n",
        "    joke: str\n",
        "    improved_joke: str\n",
        "    final_joke: str\n"
      ]
    },
    {
      "cell_type": "markdown",
      "metadata": {},
      "source": [
        "### ¿Qué es la definición de nodos en un grafo?\n",
        "\n",
        "En el contexto de un grafo de procesamiento, como los utilizados en flujos de trabajo de inteligencia artificial o procesamiento de datos, los **nodos** representan las unidades funcionales o pasos individuales que componen el flujo. Cada nodo es una función o bloque de código que realiza una tarea específica, como generar, transformar o validar información.\n",
        "\n",
        "La **definición de nodos** consiste en crear estas funciones que recibirán el estado actual del grafo (por ejemplo, un diccionario con datos relevantes), realizarán una operación sobre ese estado y devolverán los resultados (posiblemente modificando o agregando información al estado).\n",
        "\n",
        "En resumen, los nodos son los componentes básicos que, conectados entre sí, permiten descomponer una tarea compleja en pasos más simples y manejables dentro del grafo.\n"
      ]
    },
    {
      "cell_type": "code",
      "execution_count": 14,
      "metadata": {},
      "outputs": [],
      "source": [
        "# Definición de nodos\n",
        "def generate_joke(state: State):\n",
        "    \"\"\"\n",
        "    Primera llamada al modelo de lenguaje (LLM) para generar un chiste inicial.\n",
        "\n",
        "    Esta función toma el estado actual, que debe contener un tema bajo la clave 'topic',\n",
        "    y utiliza el modelo de lenguaje para crear un chiste corto sobre ese tema.\n",
        "    El chiste generado se almacenará en el estado bajo la clave 'joke'.\n",
        "\n",
        "    Parámetros:\n",
        "        state (State): Diccionario que contiene el estado actual del flujo, incluyendo el tema.\n",
        "            - topic (str): Tema sobre el cual se generará el chiste.\n",
        "\n",
        "    Retorna:\n",
        "        dict: Un diccionario con la clave 'joke' y el chiste generado como valor.\n",
        "            - joke (str): Chiste generado por el modelo de lenguaje.\n",
        "    \"\"\"\n",
        "    msg = llm.invoke(f\"Escribe un chiste corto sobre {state['topic']}\")\n",
        "    return {\"joke\": msg.content}\n",
        "\n",
        "\n",
        "def check_punchline(state: State):\n",
        "    \"\"\"\n",
        "    Función de control que verifica si el chiste tiene un remate.\n",
        "\n",
        "    Esta función actúa como una compuerta (\"gate\") en el flujo de trabajo.\n",
        "    Revisa si el chiste generado contiene un signo de interrogación (\"?\") o de exclamación (\"!\"),\n",
        "    lo cual es un indicio simple de que el chiste podría tener un remate o sorpresa.\n",
        "    Si encuentra alguno de estos signos, retorna \"Pass\" para indicar que el chiste puede continuar;\n",
        "    de lo contrario, retorna \"Fail\" para indicar que necesita mejoras.\n",
        "\n",
        "    Parámetros:\n",
        "        state (State): Diccionario que contiene el estado actual del flujo.\n",
        "            - joke (str): Chiste generado que será evaluado.\n",
        "\n",
        "    Retorna:\n",
        "        str: \"Pass\" si el chiste tiene remate, \"Fail\" si necesita mejoras.\n",
        "    \"\"\"\n",
        "    if \"!\" in state[\"joke\"]:\n",
        "        return \"Pass\"\n",
        "    return \"Fail\"\n",
        "\n",
        "\n",
        "def improve_joke(state: State):\n",
        "    \"\"\"\n",
        "    Segunda llamada al modelo de lenguaje para mejorar el chiste.\n",
        "\n",
        "    Esta función toma el chiste original y solicita al modelo de lenguaje (LLM)\n",
        "    que lo haga más divertido añadiendo juegos de palabras.\n",
        "    El resultado se almacena en el estado bajo la clave 'improved_joke'.\n",
        "\n",
        "    Parámetros:\n",
        "        state (State): Diccionario que contiene el estado actual del flujo.\n",
        "            - joke (str): Chiste original a mejorar.\n",
        "\n",
        "    Retorna:\n",
        "        dict: Un diccionario con la clave 'improved_joke' y el chiste mejorado como valor.\n",
        "            - improved_joke (str): Chiste mejorado con juegos de palabras.\n",
        "    \"\"\"\n",
        "    msg = llm.invoke(f\"Haz este chiste más divertido agregando juegos de palabras: {state['joke']}\")\n",
        "    return {\"improved_joke\": msg.content}\n",
        "\n",
        "\n",
        "def polish_joke(state: State):\n",
        "    \"\"\"\n",
        "    Tercera llamada al modelo de lenguaje para pulir el chiste.\n",
        "\n",
        "    Esta función toma el chiste mejorado y pide al modelo de lenguaje que le agregue\n",
        "    un giro sorprendente, haciendo el chiste más inesperado y entretenido.\n",
        "    El resultado final se almacena bajo la clave 'final_joke'.\n",
        "\n",
        "    Parámetros:\n",
        "        state (State): Diccionario que contiene el estado actual del flujo.\n",
        "            - improved_joke (str): Chiste mejorado al que se le agregará un giro.\n",
        "\n",
        "    Retorna:\n",
        "        dict: Un diccionario con la clave 'final_joke' y el chiste final como valor.\n",
        "            - final_joke (str): Chiste final con un giro sorprendente.\n",
        "    \"\"\"\n",
        "    msg = llm.invoke(f\"Agrega un giro sorprendente a este chiste: {state['improved_joke']}\")\n",
        "    return {\"final_joke\": msg.content}"
      ]
    },
    {
      "cell_type": "markdown",
      "metadata": {},
      "source": [
        "### ¿Por qué se construye el flujo y qué hace?\n",
        "\n",
        "Se construye el flujo de trabajo (`workflow`) para automatizar el proceso de creación y mejora de chistes utilizando un modelo de lenguaje. \n",
        "El flujo define una secuencia de pasos (nodos) que se ejecutan en orden:\n",
        "1. Generar un chiste sobre un tema dado.\n",
        "2. Verificar si el chiste tiene remate.\n",
        "   - Si no lo tiene, se mejora el chiste agregando juegos de palabras.\n",
        "   - Si ya tiene remate, se pasa al siguiente paso.\n",
        "3. Pulir el chiste final agregando un giro sorprendente.\n",
        "Este flujo permite que, a partir de un tema, se obtenga un chiste cada vez más divertido y elaborado, asegurando que tenga remate y un toque inesperado.\n"
      ]
    },
    {
      "cell_type": "code",
      "execution_count": 15,
      "metadata": {},
      "outputs": [],
      "source": [
        "# Construir flujo de trabajo\n",
        "workflow = StateGraph(State)"
      ]
    },
    {
      "cell_type": "markdown",
      "metadata": {},
      "source": [
        "### Definición de nodos\n",
        "\n",
        "Los nodos dentro del grafo se definen utilizando el método `add_node` del objeto `workflow`. \n",
        "Cada nodo representa una función o paso en el flujo de trabajo, y se le asigna un nombre único junto con la función que ejecuta.\n",
        "Por ejemplo:\n",
        "\n",
        "workflow.add_node(\"generate_joke\", generate_joke)\n",
        "workflow.add_node(\"improve_joke\", improve_joke)\n",
        "workflow.add_node(\"polish_joke\", polish_joke)\n",
        "\n",
        "De esta manera, cada nodo queda registrado en el grafo y puede ser conectado con otros nodos mediante aristas para definir la secuencia y lógica del flujo."
      ]
    },
    {
      "cell_type": "code",
      "execution_count": 16,
      "metadata": {},
      "outputs": [
        {
          "data": {
            "text/plain": [
              "<langgraph.graph.state.StateGraph at 0x253ca266f90>"
            ]
          },
          "execution_count": 16,
          "metadata": {},
          "output_type": "execute_result"
        }
      ],
      "source": [
        "# Agregamos los nodos\n",
        "workflow.add_node(\"generate_joke\", generate_joke)\n",
        "workflow.add_node(\"improve_joke\", improve_joke)\n",
        "workflow.add_node(\"polish_joke\", polish_joke)\n"
      ]
    },
    {
      "cell_type": "markdown",
      "metadata": {},
      "source": [
        "### Definición de aristas\n",
        "\n",
        "Las aristas se agregan al grafo utilizando los métodos `add_edge` y `add_conditional_edges` del objeto `workflow`. \n",
        "Estas aristas conectan los nodos entre sí y definen el orden y la lógica del flujo de trabajo.\n",
        "Por ejemplo, se puede conectar el nodo inicial con el nodo que genera el chiste, y luego establecer condiciones para decidir el siguiente paso según el resultado.\n",
        "La importancia de las aristas radica en que determinan cómo fluye la información y las decisiones dentro del grafo, permitiendo que el proceso sea dinámico y adaptativo según las necesidades del flujo.\n",
        "Sin las aristas, los nodos quedarían aislados y no habría una secuencia lógica de ejecución."
      ]
    },
    {
      "cell_type": "code",
      "execution_count": 17,
      "metadata": {},
      "outputs": [
        {
          "data": {
            "text/plain": [
              "<langgraph.graph.state.StateGraph at 0x253ca266f90>"
            ]
          },
          "execution_count": 17,
          "metadata": {},
          "output_type": "execute_result"
        }
      ],
      "source": [
        "# Agregamos las aristas\n",
        "workflow.add_edge(START, \"generate_joke\")\n",
        "workflow.add_conditional_edges(\n",
        "    \"generate_joke\", check_punchline, {\"Fail\": \"improve_joke\", \"Pass\": END}\n",
        ")\n",
        "workflow.add_edge(\"improve_joke\", \"polish_joke\")\n",
        "workflow.add_edge(\"polish_joke\", END)"
      ]
    },
    {
      "cell_type": "markdown",
      "metadata": {},
      "source": [
        "### ¿Qué es la compilación en este contexto?\n",
        "\n",
        "En este flujo de trabajo, la **compilación** se refiere al proceso de transformar la definición del grafo (los nodos y aristas que hemos configurado) en una cadena ejecutable. \n",
        "\n",
        "Es decir, al compilar el workflow, el sistema toma la estructura que hemos definido (qué nodos existen, cómo se conectan y bajo qué condiciones) y la convierte en un objeto que puede ser ejecutado paso a paso, siguiendo la lógica establecida.\n",
        "\n",
        "De esta manera, la compilación permite que el grafo pase de ser solo una descripción estática a convertirse en un flujo de trabajo funcional que puede recibir entradas, procesarlas y devolver resultados."
      ]
    },
    {
      "cell_type": "code",
      "execution_count": 18,
      "metadata": {},
      "outputs": [],
      "source": [
        "# Compilamos\n",
        "chain = workflow.compile()"
      ]
    },
    {
      "cell_type": "markdown",
      "metadata": {},
      "source": [
        "\n",
        "### Visualización del grafo\n",
        "El siguiente código utiliza la función `display` para mostrar visualmente el grafo del workflow que hemos construido. \n",
        "Específicamente, `chain.get_graph().draw_mermaid_png()` genera una imagen del grafo utilizando el formato Mermaid, \n",
        "permitiendo ver de manera gráfica cómo están conectados los nodos y las aristas del flujo de trabajo.\n",
        "Esto facilita la comprensión de la estructura y la lógica del workflow, mostrando de forma clara el recorrido que sigue la información entre los diferentes pasos.\n"
      ]
    },
    {
      "cell_type": "code",
      "execution_count": 19,
      "metadata": {},
      "outputs": [
        {
          "data": {
            "image/png": "[encoded data removed]",
            "text/plain": [
              "<IPython.core.display.Image object>"
            ]
          },
          "metadata": {},
          "output_type": "display_data"
        }
      ],
      "source": [
        "# Visualizamos el workflow\n",
        "display(Image(chain.get_graph().draw_mermaid_png()))"
      ]
    },
    {
      "cell_type": "markdown",
      "metadata": {},
      "source": [
        "### LLamado\n",
        "Ahora que hemos definido y compilado el grafo siguiendo los pasos anteriores, ya podemos invocarlo para ejecutar el flujo de trabajo y obtener resultados.\n"
      ]
    },
    {
      "cell_type": "code",
      "execution_count": 22,
      "metadata": {},
      "outputs": [
        {
          "name": "stdout",
          "output_type": "stream",
          "text": [
            "Chiste incial:\n",
            "¿Por qué el avión se rompió?\n",
            "Porque tenía una grieta en él.\n",
            "\n",
            "--- --- ---\n",
            "\n",
            "Chiste mejorado:\n",
            "Aquí hay algunas versiones más divertidas del chiste usando juegos de palabras:\n",
            "\n",
            "**Versión 1 (juego de palabras simple):**\n",
            "\n",
            "¿Por qué se rompió el avión?\n",
            "¡Porque tenía una grieta y no podía soportarlo!\n",
            "\n",
            "**Versión 2 (juego de palabras con \"wing\"):**\n",
            "\n",
            "¿Por qué se rompió el avión?\n",
            "¡Porque su ala derecha estaba a punto de salir volando y todo el avión se estaba deshaciendo!\n",
            "\n",
            "**Versión 3 (juego de palabras con \"fuselage\"):**\n",
            "\n",
            "¿Por qué se rompió el avión?\n",
            "¡Porque tenía problemas de fuselaje y se partió en dos!\n",
            "\n",
            "\n",
            "**Versión 4 (juego de palabras con \"plane\"):**\n",
            "\n",
            "¿Por qué se rompió el avión?\n",
            "¡Porque no estaba muy bien plane...ado!\n",
            "\n",
            "**Versión 5 (juego de palabras con \"terminal\"):**\n",
            "\n",
            "¿Por qué se rompió el avión?\n",
            "¡Porque estaba en una condición terminal!\n",
            "\n",
            "\n",
            "**Versión 6 (un poco más larga):**\n",
            "\n",
            "Un hombre entra a una tienda de reparación de aviones y pregunta: \"¿Puedes arreglar mi avión?\"\n",
            "El mecánico dice: \"Claro, ¿cuál es el problema?\"\n",
            "El hombre dice: \"¡Está todo roto!\"\n",
            "El mecánico dice: \"Bueno, eso es un poco vago. ¿Hay alguna grieta?\"\n",
            "El hombre dice: \"¡Una grieta? ¡Hay tantas grietas que todo el avión se va a deshacer!\"\n",
            "\n",
            "\n",
            "Puedes adaptar estos juegos de palabras a tu gusto y combinar diferentes elementos para crear aún más versiones del chiste.\n",
            "\n",
            "--- --- ---\n",
            "\n",
            "Chiste final:\n",
            "**Versión con giro sorprendente:**\n",
            "\n",
            "¿Por qué se rompió el avión?\n",
            "¡Porque el piloto era un pastel! ...¡Y la aerolínea se quedó sin glaseado!\n",
            "\n",
            "\n",
            "**Explicación del giro:**\n",
            "\n",
            "Este chiste utiliza un juego de palabras inesperado.  Primero se establece una premisa que invita a pensar en razones mecánicas o estructurales para el accidente. Luego, se introduce la palabra \"pastel\" para referirse al piloto,  jugando con la expresión coloquial \"ser un pastel\" (ser una persona fácil de engañar o manipular).  La segunda parte del chiste, \"...Y la aerolínea se quedó sin glaseado\", refuerza la idea absurda del piloto como un pastel literal, sugiriendo que se desmoronó por falta de glaseado. La sorpresa radica en el cambio abrupto de un contexto técnico a uno absurdo y comestible.\n",
            "\n",
            "\n",
            "**Otra versión con giro sorprendente (más oscura):**\n",
            "\n",
            "¿Por qué se rompió el avión?\n",
            "¡Porque el piloto finalmente leyó su horóscopo! Decía: \"Hoy tus planes se estrellarán.\"\n",
            "\n",
            "\n",
            "**Explicación del giro:**\n",
            "\n",
            "Este chiste juega con la idea de la superstición y el destino.  La sorpresa viene de la inesperada razón del accidente: la lectura del horóscopo.  Implica que el piloto, al leer la predicción, se autosugestionó o entró en pánico, causando el accidente.  El humor negro proviene de la ironía de que intentar evitar el destino predicho por el horóscopo lleva precisamente a cumplirlo.\n"
          ]
        }
      ],
      "source": [
        "# Invocar\n",
        "state = chain.invoke({\"topic\": \"aviones\"})\n",
        "\n",
        "print(\"Chiste incial:\")\n",
        "print(state[\"joke\"])\n",
        "print(\"\\n--- --- ---\\n\")\n",
        "\n",
        "\n",
        "if \"improved_joke\" in state:\n",
        "    print(\"Chiste mejorado:\")\n",
        "    print(state[\"improved_joke\"])\n",
        "    print(\"\\n--- --- ---\\n\")\n",
        "\n",
        "    print(\"Chiste final:\")\n",
        "    print(state[\"final_joke\"])\n",
        "else:\n",
        "    print(\"El chiste no necesitó ser mejorado!\")"
      ]
    }
  ],
  "metadata": {
    "kernelspec": {
      "display_name": "kernel-lg",
      "language": "python",
      "name": "python3"
    },
    "language_info": {
      "codemirror_mode": {
        "name": "ipython",
        "version": 3
      },
      "file_extension": ".py",
      "mimetype": "text/x-python",
      "name": "python",
      "nbconvert_exporter": "python",
      "pygments_lexer": "ipython3",
      "version": "3.12.7"
    }
  },
  "nbformat": 4,
  "nbformat_minor": 2
}
