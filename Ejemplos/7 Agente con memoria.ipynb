{
  "cells": [
    {
      "cell_type": "markdown",
      "metadata": {},
      "source": [
        "# Agentes en LangGraph con Gemini\n"
      ]
    },
    {
      "cell_type": "markdown",
      "metadata": {},
      "source": [
        "## Caso 6 Agente con memoria\n",
        "\n",
        "<img src=\"https://cdn.prod.website-files.com/65b8cd72835ceeacd4449a53/66dbab7453080e6802cd1703_agent-memory1.png\" alt=\"gate\" width=\"600\"/>\n",
        "\n",
        "Muchos de las aplicaciones de agentes requieren tener memoria para que el agente pueda validar eventos, contexto o datos anteriormente suministrados en la conversación. Existen dos tipos de memoria: a corto plazo y largo plano.\n",
        "\n",
        "### Memoria a corto plazo: \n",
        "usualmente se habla de un id de conversación. Si ha interactuado con uno o varios agente en una intención de forma reciente, es lo que se considera memoria a corto plazo\n",
        "\n",
        "### Memoria a largo plazo: \n",
        "usualmente asociado al id del usurio, esta memoria es el historico de conversaciones o eventos que han pasado en multiples interacciones en una ventana de tiempo extenza por uno o varios agente de IA o humanos incluso cuando la memoria se mezcla con eventos en un CRM para canales de atención\n",
        "\n",
        "En este ejemplo trabajaremos la memoria a corto plazo. Hay diferentes herramientas o formas de tener memoria a largo plazo, recomiendo usar herramientas como [Memory Bank](https://cloud.google.com/vertex-ai/generative-ai/docs/agent-engine/memory-bank/overview) de GCP."
      ]
    },
    {
      "cell_type": "code",
      "execution_count": 1,
      "metadata": {},
      "outputs": [],
      "source": [
        "from pydantic import BaseModel, Field\n",
        "from typing_extensions import TypedDict\n",
        "from langgraph.graph import StateGraph, START, END\n",
        "from IPython.display import Image, display\n",
        "from langchain_core.messages import HumanMessage, SystemMessage\n",
        "from langgraph.graph import MessagesState\n",
        "from langgraph.prebuilt import tools_condition, ToolNode\n",
        "#from typing_extensions import Literal"
      ]
    },
    {
      "cell_type": "code",
      "execution_count": 2,
      "metadata": {},
      "outputs": [],
      "source": [
        "import os\n",
        "import getpass\n",
        "from langchain_google_genai import ChatGoogleGenerativeAI\n",
        "\n",
        "# Declaración y llamado de la key del modelo LLM\n",
        "# use esta función para definir la key del modelo LLM si tuvo problemas con el archivo .env.json o create_env.py\n",
        "def _set_env(var: str):\n",
        "   if not os.environ.get(var):\n",
        "       os.environ[var] = getpass.getpass(f\"{var}: \")\n",
        "\n",
        "_set_env(\"GOOGLE_API_KEY\")\n",
        "\n",
        "llm = ChatGoogleGenerativeAI(model=\"gemini-1.5-pro\")"
      ]
    },
    {
      "cell_type": "markdown",
      "metadata": {},
      "source": [
        "Iniciamos definiendo algunas tools para nuestro agente"
      ]
    },
    {
      "cell_type": "code",
      "execution_count": 3,
      "metadata": {},
      "outputs": [],
      "source": [
        "def multiply(a: int, b: int) -> int:\n",
        "    \"\"\"\n",
        "    Multiplica dos números enteros y retorna el resultado.\n",
        "\n",
        "    Esta función toma dos argumentos de tipo entero, 'a' y 'b', y retorna el producto de ambos.\n",
        "    Es útil cuando se requiere realizar operaciones de multiplicación en flujos de trabajo matemáticos\n",
        "    o como parte de herramientas de cálculo para agentes conversacionales.\n",
        "\n",
        "    Args:\n",
        "        a: Primer número entero a multiplicar.\n",
        "        b: Segundo número entero a multiplicar.\n",
        "\n",
        "    Returns:\n",
        "        El resultado de multiplicar 'a' por 'b' como un entero.\n",
        "    \"\"\"\n",
        "    return a * b\n",
        "\n",
        "def add(a: int, b: int) -> int:\n",
        "    \"\"\"\n",
        "    Suma dos números enteros y retorna el resultado.\n",
        "\n",
        "    Esta función recibe dos argumentos de tipo entero, 'a' y 'b', y retorna la suma de ambos.\n",
        "    Es útil para realizar operaciones aritméticas básicas, como sumar cantidades, totales o valores\n",
        "    en diferentes contextos dentro de un agente conversacional.\n",
        "\n",
        "    Args:\n",
        "        a: Primer número entero a sumar.\n",
        "        b: Segundo número entero a sumar.\n",
        "\n",
        "    Returns:\n",
        "        La suma de 'a' y 'b' como un entero.\n",
        "    \"\"\"\n",
        "    return a + b\n",
        "\n",
        "def divide(a: int, b: int) -> float:\n",
        "    \"\"\"\n",
        "    Divide el primer número entero por el segundo y retorna el resultado como flotante.\n",
        "\n",
        "    Esta función toma dos argumentos de tipo entero, 'a' y 'b', y retorna el cociente de la división de 'a' entre 'b'.\n",
        "    Es importante asegurarse de que 'b' no sea cero para evitar errores de división.\n",
        "    Es útil para calcular proporciones, promedios u otras operaciones que requieran división en agentes conversacionales.\n",
        "\n",
        "    Args:\n",
        "        a: Número entero que será el dividendo.\n",
        "        b: Número entero que será el divisor (no debe ser cero).\n",
        "\n",
        "    Returns:\n",
        "        El resultado de dividir 'a' entre 'b' como un número flotante.\n",
        "    \"\"\"\n",
        "    return a / b\n"
      ]
    },
    {
      "cell_type": "markdown",
      "metadata": {},
      "source": [
        "Definimos estas funciones como tools para nuestro agente"
      ]
    },
    {
      "cell_type": "code",
      "execution_count": 4,
      "metadata": {},
      "outputs": [],
      "source": [
        "tools = [add, multiply, divide]\n",
        "llm_with_tools = llm.bind_tools(tools)"
      ]
    },
    {
      "cell_type": "markdown",
      "metadata": {},
      "source": [
        "Ahora definimos la entrada del mensaje que nos dará el usurio y el nodo que usaremos"
      ]
    },
    {
      "cell_type": "code",
      "execution_count": 5,
      "metadata": {},
      "outputs": [],
      "source": [
        "# Esta línea crea un mensaje de sistema (SystemMessage) que se utiliza para establecer el comportamiento y las instrucciones iniciales del asistente conversacional.\n",
        "# El contenido del mensaje indica que el asistente debe ser útil y está encargado de realizar operaciones aritméticas sobre un conjunto de entradas.\n",
        "# Este mensaje se envía al modelo de lenguaje como contexto para guiar sus respuestas y asegurar que actúe de acuerdo a la tarea especificada.\n",
        "sys_msg = SystemMessage(content=\"You are a helpful assistant tasked with performing arithmetic on a set of inputs.\")\n",
        "\n",
        "# Nodo\n",
        "def assistant(state: MessagesState):\n",
        "   return {\"messages\": [llm_with_tools.invoke([sys_msg] + state[\"messages\"])]}"
      ]
    },
    {
      "cell_type": "markdown",
      "metadata": {},
      "source": [
        "Inicializamos el grafo"
      ]
    },
    {
      "cell_type": "code",
      "execution_count": 6,
      "metadata": {},
      "outputs": [],
      "source": [
        "builder = StateGraph(MessagesState)\n"
      ]
    },
    {
      "cell_type": "markdown",
      "metadata": {},
      "source": [
        "Ahora agregamos los nodos, que serán `assistant` y las Tools que definimos incialmente"
      ]
    },
    {
      "cell_type": "code",
      "execution_count": 7,
      "metadata": {},
      "outputs": [
        {
          "data": {
            "text/plain": [
              "<langgraph.graph.state.StateGraph at 0x2863c9fbec0>"
            ]
          },
          "execution_count": 7,
          "metadata": {},
          "output_type": "execute_result"
        }
      ],
      "source": [
        "builder.add_node(\"assistant\", assistant)\n",
        "builder.add_node(\"tools\", ToolNode(tools))"
      ]
    },
    {
      "cell_type": "markdown",
      "metadata": {},
      "source": [
        "Ahora definimos las aristas de nuestro grafo"
      ]
    },
    {
      "cell_type": "code",
      "execution_count": 8,
      "metadata": {},
      "outputs": [],
      "source": [
        "builder.add_edge(START, \"assistant\")\n",
        "builder.add_conditional_edges(\n",
        "    \"assistant\",\n",
        "    # Si el último mensaje (resultado) del asistente es una llamada a una herramienta -> tools_condition dirige a tools\n",
        "    # Si el último mensaje (resultado) del asistente NO es una llamada a una herramienta -> tools_condition dirige a END\n",
        "    tools_condition,\n",
        ")\n",
        "builder.add_edge(\"tools\", \"assistant\")\n",
        "react_graph = builder.compile()"
      ]
    },
    {
      "cell_type": "markdown",
      "metadata": {},
      "source": [
        "Compilamos el grafo"
      ]
    },
    {
      "cell_type": "code",
      "execution_count": 9,
      "metadata": {},
      "outputs": [],
      "source": [
        "react_graph = builder.compile()"
      ]
    },
    {
      "cell_type": "markdown",
      "metadata": {},
      "source": [
        "Ahora podemos visualizar el grafo que hemos "
      ]
    },
    {
      "cell_type": "code",
      "execution_count": 10,
      "metadata": {},
      "outputs": [
        {
          "data": {
            "image/png": "[encoded data removed]",
            "text/plain": [
              "<IPython.core.display.Image object>"
            ]
          },
          "metadata": {},
          "output_type": "display_data"
        }
      ],
      "source": [
        "display(Image(react_graph.get_graph(xray=True).draw_mermaid_png()))"
      ]
    },
    {
      "cell_type": "markdown",
      "metadata": {},
      "source": [
        "Ahora vamos a probar el agente"
      ]
    },
    {
      "cell_type": "code",
      "execution_count": 11,
      "metadata": {},
      "outputs": [
        {
          "name": "stdout",
          "output_type": "stream",
          "text": [
            "================================\u001b[1m Human Message \u001b[0m=================================\n",
            "\n",
            "Suma 3 y 4.\n",
            "==================================\u001b[1m Ai Message \u001b[0m==================================\n",
            "Tool Calls:\n",
            "  add (5363731c-6429-4c9e-904a-fa786ef18602)\n",
            " Call ID: 5363731c-6429-4c9e-904a-fa786ef18602\n",
            "  Args:\n",
            "    b: 4.0\n",
            "    a: 3.0\n",
            "=================================\u001b[1m Tool Message \u001b[0m=================================\n",
            "Name: add\n",
            "\n",
            "7\n",
            "==================================\u001b[1m Ai Message \u001b[0m==================================\n",
            "\n",
            "7\n"
          ]
        }
      ],
      "source": [
        "messages = [HumanMessage(content=\"Suma 3 y 4.\")]\n",
        "messages = react_graph.invoke({\"messages\": messages})\n",
        "\n",
        "for m in messages['messages']:  \n",
        "    # Imprime el mensaje de una forma más legible\n",
        "    # pretty_print() es una función que se utiliza para imprimir el mensaje de una forma más legible.\n",
        "    m.pretty_print()"
      ]
    },
    {
      "cell_type": "markdown",
      "metadata": {},
      "source": [
        "Podemos validar que está usando las tools solicitando diferntes operaciones"
      ]
    },
    {
      "cell_type": "code",
      "execution_count": 12,
      "metadata": {},
      "outputs": [
        {
          "name": "stdout",
          "output_type": "stream",
          "text": [
            "================================\u001b[1m Human Message \u001b[0m=================================\n",
            "\n",
            "Multiplica eso por si mismo.\n",
            "==================================\u001b[1m Ai Message \u001b[0m==================================\n",
            "\n",
            "Por favor, proporciona un número para multiplicar por sí mismo.\n"
          ]
        }
      ],
      "source": [
        "messages = [HumanMessage(content=\"Multiplica eso por si mismo.\")]\n",
        "messages = react_graph.invoke({\"messages\": messages})\n",
        "for m in messages['messages']:\n",
        "    m.pretty_print()"
      ]
    },
    {
      "cell_type": "markdown",
      "metadata": {},
      "source": [
        "**¡No conservamos la memoria del 7 de nuestro chat inicial!**\n",
        "\n",
        "Esto ocurre porque el estado es transitorio y solo dura durante la ejecución de un único grafo. Por lo tanto, esto limita nuestra capacidad para mantener conversaciones de varios turnos o con interrupciones. Podemos resolver este problema utilizando persistencia.\n",
        "\n",
        "LangGraph permite usar un `checkpointer` para guardar automáticamente el estado del grafo después de cada paso.\n",
        "\n",
        "Esta capa de persistencia incorporada nos da memoria, permitiendo que LangGraph retome desde la última actualización de estado.\n",
        "\n",
        "Uno de los checkpointers más sencillos de usar es `MemorySaver`, que es un almacén clave-valor en memoria para el estado del grafo. Solo necesitamos compilar el grafo con un checkpointer, ¡y así nuestro grafo tendrá memoria!"
      ]
    },
    {
      "cell_type": "code",
      "execution_count": 13,
      "metadata": {},
      "outputs": [],
      "source": [
        "from langgraph.checkpoint.memory import MemorySaver  # Importamos MemorySaver para guardar el estado en memoria\n",
        "memory = MemorySaver()  # Creamos una instancia de MemorySaver (almacén en memoria para el estado del grafo)\n",
        "react_graph_memory = builder.compile(checkpointer=memory)  # Compilamos el grafo usando el checkpointer para habilitar la persistencia (memoria)"
      ]
    },
    {
      "cell_type": "markdown",
      "metadata": {},
      "source": [
        "### Representación del Flujo en LangGraph\n",
        "\n",
        "```mermaid\n",
        "graph TD\n",
        "    A[Estado inicial: {state: \"I\"}] --> N1[🔴 Nodo 1]\n",
        "    N1 --> N2[🔵 Nodo 2]\n",
        "    N2 --> B[Estado final: {state: \"I heart langgraph\"}]\n",
        "```\n",
        "\n",
        "---\n",
        "\n",
        "### 🔹 Conceptos Clave\n",
        "\n",
        "| Componente     | Descripción                                                                 |\n",
        "|----------------|-----------------------------------------------------------------------------|\n",
        "| **Grafo**      | Flujo de control entre nodos y aristas.                                    |\n",
        "| **Super-pasos**| Cada nodo secuencial representa un super-paso. Nodos paralelos comparten el mismo super-paso. |\n",
        "| **Checkpoints**| En cada super-paso se guarda el estado y metadatos relevantes.             |\n",
        "| **Thread (Hilo)**  | Colección de checkpoints que representan una ejecución del grafo.       |\n",
        "\n",
        "---\n",
        "\n",
        "### Ejemplo de Checkpoints para diferentes aplicaciones\n",
        "\n",
        "#### 🔴 Checkpoint del Nodo 1\n",
        "```json\n",
        "{\n",
        "  \"state\": \"I heart\",\n",
        "  \"next\": \"nodo 2\",\n",
        "  \"id\": \"...\",\n",
        "  \"otros\": \"...\"\n",
        "}\n",
        "```\n",
        "\n",
        "#### 🔵 Checkpoint del Nodo 2\n",
        "```json\n",
        "{\n",
        "  \"state\": \"I heart langgraph\",\n",
        "  \"next\": \"end\",\n",
        "  \"id\": \"...\",\n",
        "  \"otros\": \"...\"\n",
        "}\n",
        "```\n",
        "\n",
        "---\n",
        "\n",
        "###  Hilo (Thread)\n",
        "\n",
        "Una **colección de checkpoints** ordenados que representan una ejecución completa del grafo. Sirve como historial y permite la recuperación o análisis de cada paso.\n",
        "\n",
        "---\n",
        "\n"
      ]
    },
    {
      "cell_type": "markdown",
      "metadata": {},
      "source": [
        "Ahora vamos a definir un Thread y hacer de nuevo otros llamados usando la memoria"
      ]
    },
    {
      "cell_type": "code",
      "execution_count": 14,
      "metadata": {},
      "outputs": [
        {
          "name": "stdout",
          "output_type": "stream",
          "text": [
            "================================\u001b[1m Human Message \u001b[0m=================================\n",
            "\n",
            "Suma 3 y 4.\n",
            "==================================\u001b[1m Ai Message \u001b[0m==================================\n",
            "Tool Calls:\n",
            "  add (eae4c54d-fa09-44ab-b3cc-35f45f807c64)\n",
            " Call ID: eae4c54d-fa09-44ab-b3cc-35f45f807c64\n",
            "  Args:\n",
            "    b: 4.0\n",
            "    a: 3.0\n",
            "=================================\u001b[1m Tool Message \u001b[0m=================================\n",
            "Name: add\n",
            "\n",
            "7\n",
            "==================================\u001b[1m Ai Message \u001b[0m==================================\n",
            "\n",
            "7\n"
          ]
        }
      ],
      "source": [
        "# Definir la configuración para el hilo específico donde se almacenará el historial de la conversación.\n",
        "config = {\"configurable\": {\"thread_id\": \"1\"}}\n",
        "\n",
        "# Crear el mensaje de entrada que el usuario envía al agente.\n",
        "messages = [HumanMessage(content=\"Suma 3 y 4.\")]\n",
        "\n",
        "# Ejecutar el grafo de razonamiento con memoria, pasando los mensajes y la configuración del hilo.\n",
        "messages = react_graph_memory.invoke({\"messages\": messages}, config)\n",
        "\n",
        "# Recorrer todos los mensajes resultantes y mostrarlos de forma legible.\n",
        "for m in messages['messages']:\n",
        "    m.pretty_print()"
      ]
    },
    {
      "cell_type": "markdown",
      "metadata": {},
      "source": [
        "Si utilizamos el mismo `thread_id`, el agente puede continuar desde el último estado guardado en el historial (`checkpoint`) de la conversación.\n",
        "\n",
        "Es decir, toda la conversación previa (por ejemplo, la suma de 3 y 4) queda registrada en el hilo identificado por ese `thread_id`.\n",
        "\n",
        "Cuando enviamos un nuevo mensaje del usuario, como `Multiplica eso por 2.`, este mensaje se añade al historial de la conversación en ese mismo hilo.\n",
        "\n",
        "De esta manera, el modelo tiene acceso al contexto completo: sabe que \"eso\" se refiere al resultado anterior (\"La suma de 3 y 4 es 7\"), y puede realizar la nueva operación correctamente (multiplicar 7 por 2).\n",
        "\n",
        "Así, la memoria del hilo permite que el agente entienda referencias a mensajes previos y mantenga coherencia en la conversación."
      ]
    },
    {
      "cell_type": "code",
      "execution_count": 15,
      "metadata": {},
      "outputs": [
        {
          "name": "stdout",
          "output_type": "stream",
          "text": [
            "================================\u001b[1m Human Message \u001b[0m=================================\n",
            "\n",
            "Suma 3 y 4.\n",
            "==================================\u001b[1m Ai Message \u001b[0m==================================\n",
            "Tool Calls:\n",
            "  add (eae4c54d-fa09-44ab-b3cc-35f45f807c64)\n",
            " Call ID: eae4c54d-fa09-44ab-b3cc-35f45f807c64\n",
            "  Args:\n",
            "    b: 4.0\n",
            "    a: 3.0\n",
            "=================================\u001b[1m Tool Message \u001b[0m=================================\n",
            "Name: add\n",
            "\n",
            "7\n",
            "==================================\u001b[1m Ai Message \u001b[0m==================================\n",
            "\n",
            "7\n",
            "================================\u001b[1m Human Message \u001b[0m=================================\n",
            "\n",
            "Multiplica eso por 2.\n",
            "==================================\u001b[1m Ai Message \u001b[0m==================================\n",
            "Tool Calls:\n",
            "  multiply (3b8ce371-5c10-4713-a883-77a673cf74e6)\n",
            " Call ID: 3b8ce371-5c10-4713-a883-77a673cf74e6\n",
            "  Args:\n",
            "    b: 2.0\n",
            "    a: 7.0\n",
            "=================================\u001b[1m Tool Message \u001b[0m=================================\n",
            "Name: multiply\n",
            "\n",
            "14\n",
            "==================================\u001b[1m Ai Message \u001b[0m==================================\n",
            "\n",
            "14\n"
          ]
        }
      ],
      "source": [
        "messages = [HumanMessage(content=\"Multiplica eso por 2.\")]\n",
        "messages = react_graph_memory.invoke({\"messages\": messages}, config)\n",
        "for m in messages['messages']:\n",
        "    m.pretty_print()"
      ]
    },
    {
      "cell_type": "markdown",
      "metadata": {},
      "source": [
        "# LangGraph Studio\n",
        "\n",
        "### AVISO IMPORTANTE\n",
        "\n",
        "LangGraph Studio ha sido actualizado para que puedas ejecutarlo localmente en tu propia máquina y abrirlo directamente en tu navegador web. Esta es ahora la forma recomendada de utilizar Studio, en lugar de la aplicación de escritorio\n",
        "\n",
        "¿Qué significa esto?\n",
        "\n",
        "- Ya no necesitas instalar una aplicación de escritorio separada.\n",
        "- Puedes iniciar el servidor de desarrollo localmente, lo que te permite trabajar de manera más flexible y rápida.\n",
        "- El entorno de Studio se abrirá en tu navegador, facilitando la interacción y el desarrollo.\n",
        "\n",
        "¿Cómo lo hago?\n",
        "\n",
        "1. Abre una terminal y navega a la carpeta donde haya desarrolado el agente, ejemplo `Ejemplos\\Agente expuesto en un API `.\n",
        "2. Ejecuta el siguiente comando para iniciar el servidor de desarrollo local de LangGraph Studio:\n",
        "\n",
        "  ```\n",
        "  langgraph dev\n",
        "  ```\n",
        "\n",
        "3. Una vez iniciado, abre tu navegador y accede a la dirección local que se mostrará en la terminal (por lo general, `http://localhost:8000` o similar).\n",
        "\n",
        "Para más detalles y documentación sobre cómo utilizar el servidor de desarrollo local y las nuevas funcionalidades de Studio, consulta la documentación oficial de LangGraph Studio.\n",
        "\n",
        "De esta manera, podrás experimentar y desarrollar tus flujos de trabajo de manera más eficiente y cómoda directamente desde tu navegador."
      ]
    },
    {
      "cell_type": "markdown",
      "metadata": {},
      "source": [
        "# Agente expuesto como servicio de API\n",
        "\n",
        "Para finalizar este tutorial báscio, recomedamos leer `Ejemplos\\Agente expuesto en un API ` donde se expone una forma de como desplegar un agente con memoria y diferetentes tools por medio de un API. Remitase al `Ejemplos\\Agente expuesto en un API\\README.md` y siga las instrucciones para ejecutar el agente."
      ]
    }
  ],
  "metadata": {
    "kernelspec": {
      "display_name": "kernel-lg",
      "language": "python",
      "name": "python3"
    },
    "language_info": {
      "codemirror_mode": {
        "name": "ipython",
        "version": 3
      },
      "file_extension": ".py",
      "mimetype": "text/x-python",
      "name": "python",
      "nbconvert_exporter": "python",
      "pygments_lexer": "ipython3",
      "version": "3.12.7"
    }
  },
  "nbformat": 4,
  "nbformat_minor": 2
}
