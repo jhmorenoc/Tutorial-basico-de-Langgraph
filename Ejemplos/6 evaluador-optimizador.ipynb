{
  "cells": [
    {
      "cell_type": "markdown",
      "metadata": {},
      "source": [
        "# Agentes en LangGraph con Gemini\n"
      ]
    },
    {
      "cell_type": "markdown",
      "metadata": {},
      "source": [
        "## Caso 6 Evaluador-optimizador\n",
        "\n",
        "<img src=\"https://langchain-ai.github.io/langgraph/tutorials/workflows/img/evaluator_optimizer.png\" alt=\"gate\" width=\"600\"/>\n",
        "\n",
        "En el flujo de trabajo evaluador-optimizador, una llamada al LLM genera una respuesta mientras que otra proporciona evaluación y retroalimentación en un ciclo:\n",
        "\n",
        "Cuándo usar este flujo de trabajo: Este flujo es particularmente efectivo cuando tenemos criterios de evaluación claros y cuando la refinación iterativa aporta un valor medible. Las dos señales de buen ajuste son, primero, que las respuestas del LLM pueden mejorarse demostrablemente cuando un humano articula su retroalimentación; y segundo, que el LLM puede proporcionar dicha retroalimentación. Esto es análogo al proceso iterativo de escritura que un escritor humano podría seguir al producir un documento pulido.\n"
      ]
    },
    {
      "cell_type": "code",
      "execution_count": 1,
      "metadata": {},
      "outputs": [],
      "source": [
        "from pydantic import BaseModel, Field\n",
        "from typing_extensions import TypedDict\n",
        "from langgraph.graph import StateGraph, START, END\n",
        "from IPython.display import Image, display\n",
        "# from langchain_core.messages import HumanMessage, SystemMessage\n",
        "from typing_extensions import Literal"
      ]
    },
    {
      "cell_type": "code",
      "execution_count": 2,
      "metadata": {},
      "outputs": [],
      "source": [
        "import os\n",
        "import getpass\n",
        "from langchain_google_genai import ChatGoogleGenerativeAI\n",
        "\n",
        "# Declaración y llamado de la key del modelo LLM\n",
        "# use esta función para definir la key del modelo LLM si tuvo problemas con el archivo .env.json o create_env.py\n",
        "def _set_env(var: str):\n",
        "   if not os.environ.get(var):\n",
        "       os.environ[var] = getpass.getpass(f\"{var}: \")\n",
        "\n",
        "_set_env(\"GOOGLE_API_KEY\")\n",
        "\n",
        "llm = ChatGoogleGenerativeAI(model=\"gemini-1.5-pro\")"
      ]
    },
    {
      "cell_type": "markdown",
      "metadata": {},
      "source": [
        "Iniciamos definiendo los estados del grafo:"
      ]
    },
    {
      "cell_type": "code",
      "execution_count": 3,
      "metadata": {},
      "outputs": [],
      "source": [
        "class State(TypedDict):\n",
        "    joke: str\n",
        "    topic: str\n",
        "    feedback: str\n",
        "    funny_or_not: str"
      ]
    },
    {
      "cell_type": "markdown",
      "metadata": {},
      "source": [
        "Ahora definimos un esquema que nos ayudará a calificar la calidad del chiste"
      ]
    },
    {
      "cell_type": "code",
      "execution_count": 4,
      "metadata": {},
      "outputs": [],
      "source": [
        "# Esquema para salida estructurada a usar en la evaluación\n",
        "class Feedback(BaseModel):\n",
        "    grade: Literal[\"funny\", \"not funny\"] = Field(\n",
        "        description=\"Decide si el chiste es gracioso o no.\",\n",
        "    )\n",
        "    feedback: str = Field(\n",
        "        description=\"Si el chiste no es gracioso, proporciona retroalimentación sobre cómo mejorarlo.\",\n",
        "    )"
      ]
    },
    {
      "cell_type": "markdown",
      "metadata": {},
      "source": [
        "Definimos el LLM con un esquema para salida estructurada"
      ]
    },
    {
      "cell_type": "code",
      "execution_count": 5,
      "metadata": {},
      "outputs": [],
      "source": [
        "evaluator = llm.with_structured_output(Feedback)"
      ]
    },
    {
      "cell_type": "markdown",
      "metadata": {},
      "source": [
        "Ahora definimos las funciones que nos servirán como nodos"
      ]
    },
    {
      "cell_type": "code",
      "execution_count": 6,
      "metadata": {},
      "outputs": [],
      "source": [
        "def llm_call_generator(state: State):\n",
        "    \"\"\"El LLM genera un chiste\"\"\"\n",
        "\n",
        "    if state.get(\"feedback\"):\n",
        "        msg = llm.invoke(\n",
        "            f\"Escribe un chiste sobre {state['topic']} pero toma en cuenta la retroalimentación: {state['feedback']}\"\n",
        "        )\n",
        "    else:\n",
        "        msg = llm.invoke(f\"Escribe un chiste sobre {state['topic']}\")\n",
        "    return {\"joke\": msg.content}\n",
        "\n",
        "\n",
        "def llm_call_evaluator(state: State):\n",
        "    \"\"\"El LLM evalúa el chiste\"\"\"\n",
        "\n",
        "    grade = evaluator.invoke(f\"Califica el chiste {state['joke']}\")\n",
        "    return {\"funny_or_not\": grade.grade, \"feedback\": grade.feedback}\n",
        "\n",
        "\n",
        "# Función condicional para regresar al generador de chistes o terminar según la retroalimentación del evaluador\n",
        "def route_joke(state: State):\n",
        "    \"\"\"Regresa al generador de chistes o termina según la retroalimentación del evaluador\"\"\"\n",
        "\n",
        "    if state[\"funny_or_not\"] == \"funny\":\n",
        "        return \"Aceptado\"\n",
        "    elif state[\"funny_or_not\"] == \"not funny\":\n",
        "        return \"Rechazado + Retroalimentación\"\n"
      ]
    },
    {
      "cell_type": "markdown",
      "metadata": {},
      "source": [
        "Inicializamos el grafo"
      ]
    },
    {
      "cell_type": "code",
      "execution_count": 7,
      "metadata": {},
      "outputs": [],
      "source": [
        "optimizer_builder = StateGraph(State)"
      ]
    },
    {
      "cell_type": "markdown",
      "metadata": {},
      "source": [
        "Agregamos al grafo los nodos que antes habíamos definido"
      ]
    },
    {
      "cell_type": "code",
      "execution_count": 8,
      "metadata": {},
      "outputs": [
        {
          "data": {
            "text/plain": [
              "<langgraph.graph.state.StateGraph at 0x2dcf8a00680>"
            ]
          },
          "execution_count": 8,
          "metadata": {},
          "output_type": "execute_result"
        }
      ],
      "source": [
        "optimizer_builder.add_node(\"llm_call_generator\", llm_call_generator)\n",
        "optimizer_builder.add_node(\"llm_call_evaluator\", llm_call_evaluator)"
      ]
    },
    {
      "cell_type": "markdown",
      "metadata": {},
      "source": [
        "Agregamos las aristas al grafo para darle forma y las conexiones entre los nodos agregados en el paso anterior"
      ]
    },
    {
      "cell_type": "code",
      "execution_count": 9,
      "metadata": {},
      "outputs": [
        {
          "data": {
            "text/plain": [
              "<langgraph.graph.state.StateGraph at 0x2dcf8a00680>"
            ]
          },
          "execution_count": 9,
          "metadata": {},
          "output_type": "execute_result"
        }
      ],
      "source": [
        "optimizer_builder.add_edge(START, \"llm_call_generator\")\n",
        "optimizer_builder.add_edge(\"llm_call_generator\", \"llm_call_evaluator\")\n",
        "optimizer_builder.add_conditional_edges(\n",
        "    \"llm_call_evaluator\",\n",
        "    route_joke,\n",
        "    {  # Nombre devuelto por route_joke : Nombre del siguiente nodo a visitar\n",
        "        \"Aceptado\": END,\n",
        "        \"Rechazado + Retroalimentación\": \"llm_call_generator\",\n",
        "    },\n",
        ")\n"
      ]
    },
    {
      "cell_type": "markdown",
      "metadata": {},
      "source": [
        "Con todo esto, ya se puede compilar el grafo"
      ]
    },
    {
      "cell_type": "code",
      "execution_count": 10,
      "metadata": {},
      "outputs": [],
      "source": [
        "optimizer_workflow = optimizer_builder.compile()"
      ]
    },
    {
      "cell_type": "markdown",
      "metadata": {},
      "source": [
        "Visualizamos el grafo"
      ]
    },
    {
      "cell_type": "code",
      "execution_count": 11,
      "metadata": {},
      "outputs": [
        {
          "data": {
            "image/png": "[encoded data removed]",
            "text/plain": [
              "<IPython.core.display.Image object>"
            ]
          },
          "metadata": {},
          "output_type": "display_data"
        }
      ],
      "source": [
        "display(Image(optimizer_workflow.get_graph().draw_mermaid_png()))"
      ]
    },
    {
      "cell_type": "markdown",
      "metadata": {},
      "source": [
        "Finalmente probamos nuestro flujo haciendo una invocación al grafo"
      ]
    },
    {
      "cell_type": "code",
      "execution_count": 12,
      "metadata": {},
      "outputs": [
        {
          "name": "stdout",
          "output_type": "stream",
          "text": [
            "¿Qué le dijo un gato al otro?\n",
            "\n",
            "¡Nos vemos más tarde, tengo que ir a una fiesta de miau-sicina!\n"
          ]
        }
      ],
      "source": [
        "state = optimizer_workflow.invoke({\"topic\": \"Cats\"})\n",
        "print(state[\"joke\"])"
      ]
    }
  ],
  "metadata": {
    "kernelspec": {
      "display_name": "kernel-lg",
      "language": "python",
      "name": "python3"
    },
    "language_info": {
      "codemirror_mode": {
        "name": "ipython",
        "version": 3
      },
      "file_extension": ".py",
      "mimetype": "text/x-python",
      "name": "python",
      "nbconvert_exporter": "python",
      "pygments_lexer": "ipython3",
      "version": "3.12.7"
    }
  },
  "nbformat": 4,
  "nbformat_minor": 2
}
